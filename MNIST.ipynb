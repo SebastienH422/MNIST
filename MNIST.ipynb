{
 "cells": [
  {
   "attachments": {},
   "cell_type": "markdown",
   "metadata": {},
   "source": [
    "# (0) Librairies"
   ]
  },
  {
   "cell_type": "code",
   "execution_count": 7,
   "metadata": {},
   "outputs": [],
   "source": [
    "# (1) Importation des données\n",
    "import numpy as np\n",
    "import matplotlib.pyplot as plt\n",
    "import matplotlib\n",
    "import pandas as pd\n",
    "\n",
    "import openml\n",
    "from openml import datasets as ml\n",
    "\n",
    "# (2) Détecteur de 5\n",
    "from sklearn.linear_model import SGDClassifier\n",
    "from sklearn.metrics import confusion_matrix\n",
    "\n",
    "from sklearn.model_selection import cross_val_predict\n",
    "from sklearn.model_selection import StratifiedKFold \n",
    "from sklearn.base import clone\n",
    "from sklearn.ensemble import RandomForestClassifier"
   ]
  },
  {
   "attachments": {},
   "cell_type": "markdown",
   "metadata": {},
   "source": [
    "# (1) Importation des données\n",
    "\n",
    "On sépare les images dans ```images``` et les labels dans ```labels```, on les mélange puis on crée un jeu de test et un d'entrainement.\\\n",
    "On règlera les algorithmes en fonction des évaluations croisées sur le jeu d'entrainement avant de faire un test final sur le jeu de test."
   ]
  },
  {
   "cell_type": "code",
   "execution_count": 8,
   "metadata": {},
   "outputs": [
    {
     "name": "stderr",
     "output_type": "stream",
     "text": [
      "/var/folders/l4/tj2026g138127nm7gbw5ljb00000gn/T/ipykernel_12077/3413094728.py:1: FutureWarning: Starting from Version 0.15 `download_data`, `download_qualities`, and `download_features_meta_data` will all be ``False`` instead of ``True`` by default to enable lazy loading. To disable this message until version 0.15 explicitly set `download_data`, `download_qualities`, and `download_features_meta_data` to a bool while calling `get_dataset`.\n",
      "  dataset = ml.get_dataset(554)\n"
     ]
    }
   ],
   "source": [
    "dataset = ml.get_dataset(554)\n",
    "data, y, cat_indicator, att_names = dataset.get_data(dataset_format = 'dataframe')\n",
    "\n",
    "# Jeux de test et d'entrainement\n",
    "shuffle_index = np.random.permutation(70000)\n",
    "\n",
    "Train = data.iloc[shuffle_index[:60000]] # <pandas.core.frame.DataFrame>\n",
    "Test = data.iloc[shuffle_index[60000:70000]] # <pandas.core.frame.DataFrame>\n",
    "\n",
    "# Création d'index\n",
    "Train.set_index(np.arange(0, 60000), inplace = True)\n",
    "Test.set_index(np.arange(0, 10000), inplace = True)\n",
    "\n",
    "# Séparation des images et des étiquettes\n",
    "Train_img = Train.drop('class', axis = 1, inplace = False)\n",
    "Train_lab = Train['class']\n",
    "Test_img = Test.drop('class', axis = 1, inplace = False)\n",
    "Test_lab = Test['class']"
   ]
  },
  {
   "attachments": {},
   "cell_type": "markdown",
   "metadata": {},
   "source": [
    "### Utilisation basique des données\n",
    "\n",
    "On affiche le ième image du jeu de données avec son étiquette."
   ]
  },
  {
   "cell_type": "code",
   "execution_count": 9,
   "metadata": {},
   "outputs": [
    {
     "name": "stdout",
     "output_type": "stream",
     "text": [
      "4\n"
     ]
    },
    {
     "data": {
      "image/png": "[encoded data removed]",
      "text/plain": [
       "<Figure size 640x480 with 1 Axes>"
      ]
     },
     "metadata": {},
     "output_type": "display_data"
    }
   ],
   "source": [
    "def affiche_data(i):\n",
    "    print(data['class'][i]) # Affichage de l'étiquette\n",
    "\n",
    "    # Affichage de l'image\n",
    "    img = data.drop('class', axis = 1, inplace = False).iloc[i]\n",
    "    img_tab = np.array(img).reshape((28, 28)).astype('float')\n",
    "\n",
    "    fig = plt.figure(frameon=False)\n",
    "    im2 = plt.imshow(img_tab, cmap = matplotlib.cm.binary, interpolation=\"nearest\") \n",
    "    plt.axis(\"off\")\n",
    "\n",
    "    plt.show()\n",
    "    \n",
    "def affiche_Train(i):\n",
    "    print(Train_lab.iloc[i])\n",
    "\n",
    "    img = Train_img.iloc[i]\n",
    "    img_tab = np.array(img).reshape((28, 28)).astype('float')\n",
    "    fig = plt.figure(frameon=False)\n",
    "    im2 = plt.imshow(img_tab, cmap = matplotlib.cm.binary, interpolation=\"nearest\") \n",
    "    plt.axis(\"off\")\n",
    "\n",
    "    plt.show()\n",
    "\n",
    "def affiche_Test(i):\n",
    "    print(Test_lab.iloc[i])\n",
    "\n",
    "    img = Test_img.iloc[i]\n",
    "    img_tab = np.array(img).reshape((28, 28)).astype('float')\n",
    "    fig = plt.figure(frameon=False)\n",
    "    im2 = plt.imshow(img_tab, cmap = matplotlib.cm.binary, interpolation=\"nearest\") \n",
    "    plt.axis(\"off\")\n",
    "\n",
    "    plt.show()\n",
    "    \n",
    "n = 283\n",
    "affiche_Test(n)"
   ]
  },
  {
   "attachments": {},
   "cell_type": "markdown",
   "metadata": {},
   "source": [
    "# (2) Détecteur de 5\n",
    "\n",
    "Nous allons commencer par détecter si un chiffre est un 5 ou non (classificateur binaire).\n",
    "\n",
    "On commence par crée un vecteur d'étiquettes booléennes qui sont vraies si l'image est un 5:"
   ]
  },
  {
   "cell_type": "code",
   "execution_count": 10,
   "metadata": {},
   "outputs": [],
   "source": [
    "X = Train_img.copy()\n",
    "y_5 = (Train_lab == '5').copy()"
   ]
  },
  {
   "attachments": {},
   "cell_type": "markdown",
   "metadata": {},
   "source": [
    "On choisit ensuite un classificateur que l'on entraine avec les données:"
   ]
  },
  {
   "cell_type": "code",
   "execution_count": 30,
   "metadata": {},
   "outputs": [
    {
     "data": {
      "text/html": [
       "<style>#sk-container-id-2 {\n",
       "  /* Definition of color scheme common for light and dark mode */\n",
       "  --sklearn-color-text: black;\n",
       "  --sklearn-color-line: gray;\n",
       "  /* Definition of color scheme for unfitted estimators */\n",
       "  --sklearn-color-unfitted-level-0: #fff5e6;\n",
       "  --sklearn-color-unfitted-level-1: #f6e4d2;\n",
       "  --sklearn-color-unfitted-level-2: #ffe0b3;\n",
       "  --sklearn-color-unfitted-level-3: chocolate;\n",
       "  /* Definition of color scheme for fitted estimators */\n",
       "  --sklearn-color-fitted-level-0: #f0f8ff;\n",
       "  --sklearn-color-fitted-level-1: #d4ebff;\n",
       "  --sklearn-color-fitted-level-2: #b3dbfd;\n",
       "  --sklearn-color-fitted-level-3: cornflowerblue;\n",
       "\n",
       "  /* Specific color for light theme */\n",
       "  --sklearn-color-text-on-default-background: var(--sg-text-color, var(--theme-code-foreground, var(--jp-content-font-color1, black)));\n",
       "  --sklearn-color-background: var(--sg-background-color, var(--theme-background, var(--jp-layout-color0, white)));\n",
       "  --sklearn-color-border-box: var(--sg-text-color, var(--theme-code-foreground, var(--jp-content-font-color1, black)));\n",
       "  --sklearn-color-icon: #696969;\n",
       "\n",
       "  @media (prefers-color-scheme: dark) {\n",
       "    /* Redefinition of color scheme for dark theme */\n",
       "    --sklearn-color-text-on-default-background: var(--sg-text-color, var(--theme-code-foreground, var(--jp-content-font-color1, white)));\n",
       "    --sklearn-color-background: var(--sg-background-color, var(--theme-background, var(--jp-layout-color0, #111)));\n",
       "    --sklearn-color-border-box: var(--sg-text-color, var(--theme-code-foreground, var(--jp-content-font-color1, white)));\n",
       "    --sklearn-color-icon: #878787;\n",
       "  }\n",
       "}\n",
       "\n",
       "#sk-container-id-2 {\n",
       "  color: var(--sklearn-color-text);\n",
       "}\n",
       "\n",
       "#sk-container-id-2 pre {\n",
       "  padding: 0;\n",
       "}\n",
       "\n",
       "#sk-container-id-2 input.sk-hidden--visually {\n",
       "  border: 0;\n",
       "  clip: rect(1px 1px 1px 1px);\n",
       "  clip: rect(1px, 1px, 1px, 1px);\n",
       "  height: 1px;\n",
       "  margin: -1px;\n",
       "  overflow: hidden;\n",
       "  padding: 0;\n",
       "  position: absolute;\n",
       "  width: 1px;\n",
       "}\n",
       "\n",
       "#sk-container-id-2 div.sk-dashed-wrapped {\n",
       "  border: 1px dashed var(--sklearn-color-line);\n",
       "  margin: 0 0.4em 0.5em 0.4em;\n",
       "  box-sizing: border-box;\n",
       "  padding-bottom: 0.4em;\n",
       "  background-color: var(--sklearn-color-background);\n",
       "}\n",
       "\n",
       "#sk-container-id-2 div.sk-container {\n",
       "  /* jupyter's `normalize.less` sets `[hidden] { display: none; }`\n",
       "     but bootstrap.min.css set `[hidden] { display: none !important; }`\n",
       "     so we also need the `!important` here to be able to override the\n",
       "     default hidden behavior on the sphinx rendered scikit-learn.org.\n",
       "     See: https://github.com/scikit-learn/scikit-learn/issues/21755 */\n",
       "  display: inline-block !important;\n",
       "  position: relative;\n",
       "}\n",
       "\n",
       "#sk-container-id-2 div.sk-text-repr-fallback {\n",
       "  display: none;\n",
       "}\n",
       "\n",
       "div.sk-parallel-item,\n",
       "div.sk-serial,\n",
       "div.sk-item {\n",
       "  /* draw centered vertical line to link estimators */\n",
       "  background-image: linear-gradient(var(--sklearn-color-text-on-default-background), var(--sklearn-color-text-on-default-background));\n",
       "  background-size: 2px 100%;\n",
       "  background-repeat: no-repeat;\n",
       "  background-position: center center;\n",
       "}\n",
       "\n",
       "/* Parallel-specific style estimator block */\n",
       "\n",
       "#sk-container-id-2 div.sk-parallel-item::after {\n",
       "  content: \"\";\n",
       "  width: 100%;\n",
       "  border-bottom: 2px solid var(--sklearn-color-text-on-default-background);\n",
       "  flex-grow: 1;\n",
       "}\n",
       "\n",
       "#sk-container-id-2 div.sk-parallel {\n",
       "  display: flex;\n",
       "  align-items: stretch;\n",
       "  justify-content: center;\n",
       "  background-color: var(--sklearn-color-background);\n",
       "  position: relative;\n",
       "}\n",
       "\n",
       "#sk-container-id-2 div.sk-parallel-item {\n",
       "  display: flex;\n",
       "  flex-direction: column;\n",
       "}\n",
       "\n",
       "#sk-container-id-2 div.sk-parallel-item:first-child::after {\n",
       "  align-self: flex-end;\n",
       "  width: 50%;\n",
       "}\n",
       "\n",
       "#sk-container-id-2 div.sk-parallel-item:last-child::after {\n",
       "  align-self: flex-start;\n",
       "  width: 50%;\n",
       "}\n",
       "\n",
       "#sk-container-id-2 div.sk-parallel-item:only-child::after {\n",
       "  width: 0;\n",
       "}\n",
       "\n",
       "/* Serial-specific style estimator block */\n",
       "\n",
       "#sk-container-id-2 div.sk-serial {\n",
       "  display: flex;\n",
       "  flex-direction: column;\n",
       "  align-items: center;\n",
       "  background-color: var(--sklearn-color-background);\n",
       "  padding-right: 1em;\n",
       "  padding-left: 1em;\n",
       "}\n",
       "\n",
       "\n",
       "/* Toggleable style: style used for estimator/Pipeline/ColumnTransformer box that is\n",
       "clickable and can be expanded/collapsed.\n",
       "- Pipeline and ColumnTransformer use this feature and define the default style\n",
       "- Estimators will overwrite some part of the style using the `sk-estimator` class\n",
       "*/\n",
       "\n",
       "/* Pipeline and ColumnTransformer style (default) */\n",
       "\n",
       "#sk-container-id-2 div.sk-toggleable {\n",
       "  /* Default theme specific background. It is overwritten whether we have a\n",
       "  specific estimator or a Pipeline/ColumnTransformer */\n",
       "  background-color: var(--sklearn-color-background);\n",
       "}\n",
       "\n",
       "/* Toggleable label */\n",
       "#sk-container-id-2 label.sk-toggleable__label {\n",
       "  cursor: pointer;\n",
       "  display: block;\n",
       "  width: 100%;\n",
       "  margin-bottom: 0;\n",
       "  padding: 0.5em;\n",
       "  box-sizing: border-box;\n",
       "  text-align: center;\n",
       "}\n",
       "\n",
       "#sk-container-id-2 label.sk-toggleable__label-arrow:before {\n",
       "  /* Arrow on the left of the label */\n",
       "  content: \"▸\";\n",
       "  float: left;\n",
       "  margin-right: 0.25em;\n",
       "  color: var(--sklearn-color-icon);\n",
       "}\n",
       "\n",
       "#sk-container-id-2 label.sk-toggleable__label-arrow:hover:before {\n",
       "  color: var(--sklearn-color-text);\n",
       "}\n",
       "\n",
       "/* Toggleable content - dropdown */\n",
       "\n",
       "#sk-container-id-2 div.sk-toggleable__content {\n",
       "  max-height: 0;\n",
       "  max-width: 0;\n",
       "  overflow: hidden;\n",
       "  text-align: left;\n",
       "  /* unfitted */\n",
       "  background-color: var(--sklearn-color-unfitted-level-0);\n",
       "}\n",
       "\n",
       "#sk-container-id-2 div.sk-toggleable__content.fitted {\n",
       "  /* fitted */\n",
       "  background-color: var(--sklearn-color-fitted-level-0);\n",
       "}\n",
       "\n",
       "#sk-container-id-2 div.sk-toggleable__content pre {\n",
       "  margin: 0.2em;\n",
       "  border-radius: 0.25em;\n",
       "  color: var(--sklearn-color-text);\n",
       "  /* unfitted */\n",
       "  background-color: var(--sklearn-color-unfitted-level-0);\n",
       "}\n",
       "\n",
       "#sk-container-id-2 div.sk-toggleable__content.fitted pre {\n",
       "  /* unfitted */\n",
       "  background-color: var(--sklearn-color-fitted-level-0);\n",
       "}\n",
       "\n",
       "#sk-container-id-2 input.sk-toggleable__control:checked~div.sk-toggleable__content {\n",
       "  /* Expand drop-down */\n",
       "  max-height: 200px;\n",
       "  max-width: 100%;\n",
       "  overflow: auto;\n",
       "}\n",
       "\n",
       "#sk-container-id-2 input.sk-toggleable__control:checked~label.sk-toggleable__label-arrow:before {\n",
       "  content: \"▾\";\n",
       "}\n",
       "\n",
       "/* Pipeline/ColumnTransformer-specific style */\n",
       "\n",
       "#sk-container-id-2 div.sk-label input.sk-toggleable__control:checked~label.sk-toggleable__label {\n",
       "  color: var(--sklearn-color-text);\n",
       "  background-color: var(--sklearn-color-unfitted-level-2);\n",
       "}\n",
       "\n",
       "#sk-container-id-2 div.sk-label.fitted input.sk-toggleable__control:checked~label.sk-toggleable__label {\n",
       "  background-color: var(--sklearn-color-fitted-level-2);\n",
       "}\n",
       "\n",
       "/* Estimator-specific style */\n",
       "\n",
       "/* Colorize estimator box */\n",
       "#sk-container-id-2 div.sk-estimator input.sk-toggleable__control:checked~label.sk-toggleable__label {\n",
       "  /* unfitted */\n",
       "  background-color: var(--sklearn-color-unfitted-level-2);\n",
       "}\n",
       "\n",
       "#sk-container-id-2 div.sk-estimator.fitted input.sk-toggleable__control:checked~label.sk-toggleable__label {\n",
       "  /* fitted */\n",
       "  background-color: var(--sklearn-color-fitted-level-2);\n",
       "}\n",
       "\n",
       "#sk-container-id-2 div.sk-label label.sk-toggleable__label,\n",
       "#sk-container-id-2 div.sk-label label {\n",
       "  /* The background is the default theme color */\n",
       "  color: var(--sklearn-color-text-on-default-background);\n",
       "}\n",
       "\n",
       "/* On hover, darken the color of the background */\n",
       "#sk-container-id-2 div.sk-label:hover label.sk-toggleable__label {\n",
       "  color: var(--sklearn-color-text);\n",
       "  background-color: var(--sklearn-color-unfitted-level-2);\n",
       "}\n",
       "\n",
       "/* Label box, darken color on hover, fitted */\n",
       "#sk-container-id-2 div.sk-label.fitted:hover label.sk-toggleable__label.fitted {\n",
       "  color: var(--sklearn-color-text);\n",
       "  background-color: var(--sklearn-color-fitted-level-2);\n",
       "}\n",
       "\n",
       "/* Estimator label */\n",
       "\n",
       "#sk-container-id-2 div.sk-label label {\n",
       "  font-family: monospace;\n",
       "  font-weight: bold;\n",
       "  display: inline-block;\n",
       "  line-height: 1.2em;\n",
       "}\n",
       "\n",
       "#sk-container-id-2 div.sk-label-container {\n",
       "  text-align: center;\n",
       "}\n",
       "\n",
       "/* Estimator-specific */\n",
       "#sk-container-id-2 div.sk-estimator {\n",
       "  font-family: monospace;\n",
       "  border: 1px dotted var(--sklearn-color-border-box);\n",
       "  border-radius: 0.25em;\n",
       "  box-sizing: border-box;\n",
       "  margin-bottom: 0.5em;\n",
       "  /* unfitted */\n",
       "  background-color: var(--sklearn-color-unfitted-level-0);\n",
       "}\n",
       "\n",
       "#sk-container-id-2 div.sk-estimator.fitted {\n",
       "  /* fitted */\n",
       "  background-color: var(--sklearn-color-fitted-level-0);\n",
       "}\n",
       "\n",
       "/* on hover */\n",
       "#sk-container-id-2 div.sk-estimator:hover {\n",
       "  /* unfitted */\n",
       "  background-color: var(--sklearn-color-unfitted-level-2);\n",
       "}\n",
       "\n",
       "#sk-container-id-2 div.sk-estimator.fitted:hover {\n",
       "  /* fitted */\n",
       "  background-color: var(--sklearn-color-fitted-level-2);\n",
       "}\n",
       "\n",
       "/* Specification for estimator info (e.g. \"i\" and \"?\") */\n",
       "\n",
       "/* Common style for \"i\" and \"?\" */\n",
       "\n",
       ".sk-estimator-doc-link,\n",
       "a:link.sk-estimator-doc-link,\n",
       "a:visited.sk-estimator-doc-link {\n",
       "  float: right;\n",
       "  font-size: smaller;\n",
       "  line-height: 1em;\n",
       "  font-family: monospace;\n",
       "  background-color: var(--sklearn-color-background);\n",
       "  border-radius: 1em;\n",
       "  height: 1em;\n",
       "  width: 1em;\n",
       "  text-decoration: none !important;\n",
       "  margin-left: 1ex;\n",
       "  /* unfitted */\n",
       "  border: var(--sklearn-color-unfitted-level-1) 1pt solid;\n",
       "  color: var(--sklearn-color-unfitted-level-1);\n",
       "}\n",
       "\n",
       ".sk-estimator-doc-link.fitted,\n",
       "a:link.sk-estimator-doc-link.fitted,\n",
       "a:visited.sk-estimator-doc-link.fitted {\n",
       "  /* fitted */\n",
       "  border: var(--sklearn-color-fitted-level-1) 1pt solid;\n",
       "  color: var(--sklearn-color-fitted-level-1);\n",
       "}\n",
       "\n",
       "/* On hover */\n",
       "div.sk-estimator:hover .sk-estimator-doc-link:hover,\n",
       ".sk-estimator-doc-link:hover,\n",
       "div.sk-label-container:hover .sk-estimator-doc-link:hover,\n",
       ".sk-estimator-doc-link:hover {\n",
       "  /* unfitted */\n",
       "  background-color: var(--sklearn-color-unfitted-level-3);\n",
       "  color: var(--sklearn-color-background);\n",
       "  text-decoration: none;\n",
       "}\n",
       "\n",
       "div.sk-estimator.fitted:hover .sk-estimator-doc-link.fitted:hover,\n",
       ".sk-estimator-doc-link.fitted:hover,\n",
       "div.sk-label-container:hover .sk-estimator-doc-link.fitted:hover,\n",
       ".sk-estimator-doc-link.fitted:hover {\n",
       "  /* fitted */\n",
       "  background-color: var(--sklearn-color-fitted-level-3);\n",
       "  color: var(--sklearn-color-background);\n",
       "  text-decoration: none;\n",
       "}\n",
       "\n",
       "/* Span, style for the box shown on hovering the info icon */\n",
       ".sk-estimator-doc-link span {\n",
       "  display: none;\n",
       "  z-index: 9999;\n",
       "  position: relative;\n",
       "  font-weight: normal;\n",
       "  right: .2ex;\n",
       "  padding: .5ex;\n",
       "  margin: .5ex;\n",
       "  width: min-content;\n",
       "  min-width: 20ex;\n",
       "  max-width: 50ex;\n",
       "  color: var(--sklearn-color-text);\n",
       "  box-shadow: 2pt 2pt 4pt #999;\n",
       "  /* unfitted */\n",
       "  background: var(--sklearn-color-unfitted-level-0);\n",
       "  border: .5pt solid var(--sklearn-color-unfitted-level-3);\n",
       "}\n",
       "\n",
       ".sk-estimator-doc-link.fitted span {\n",
       "  /* fitted */\n",
       "  background: var(--sklearn-color-fitted-level-0);\n",
       "  border: var(--sklearn-color-fitted-level-3);\n",
       "}\n",
       "\n",
       ".sk-estimator-doc-link:hover span {\n",
       "  display: block;\n",
       "}\n",
       "\n",
       "/* \"?\"-specific style due to the `<a>` HTML tag */\n",
       "\n",
       "#sk-container-id-2 a.estimator_doc_link {\n",
       "  float: right;\n",
       "  font-size: 1rem;\n",
       "  line-height: 1em;\n",
       "  font-family: monospace;\n",
       "  background-color: var(--sklearn-color-background);\n",
       "  border-radius: 1rem;\n",
       "  height: 1rem;\n",
       "  width: 1rem;\n",
       "  text-decoration: none;\n",
       "  /* unfitted */\n",
       "  color: var(--sklearn-color-unfitted-level-1);\n",
       "  border: var(--sklearn-color-unfitted-level-1) 1pt solid;\n",
       "}\n",
       "\n",
       "#sk-container-id-2 a.estimator_doc_link.fitted {\n",
       "  /* fitted */\n",
       "  border: var(--sklearn-color-fitted-level-1) 1pt solid;\n",
       "  color: var(--sklearn-color-fitted-level-1);\n",
       "}\n",
       "\n",
       "/* On hover */\n",
       "#sk-container-id-2 a.estimator_doc_link:hover {\n",
       "  /* unfitted */\n",
       "  background-color: var(--sklearn-color-unfitted-level-3);\n",
       "  color: var(--sklearn-color-background);\n",
       "  text-decoration: none;\n",
       "}\n",
       "\n",
       "#sk-container-id-2 a.estimator_doc_link.fitted:hover {\n",
       "  /* fitted */\n",
       "  background-color: var(--sklearn-color-fitted-level-3);\n",
       "}\n",
       "</style><div id=\"sk-container-id-2\" class=\"sk-top-container\"><div class=\"sk-text-repr-fallback\"><pre>SGDClassifier(random_state=42)</pre><b>In a Jupyter environment, please rerun this cell to show the HTML representation or trust the notebook. <br />On GitHub, the HTML representation is unable to render, please try loading this page with nbviewer.org.</b></div><div class=\"sk-container\" hidden><div class=\"sk-item\"><div class=\"sk-estimator fitted sk-toggleable\"><input class=\"sk-toggleable__control sk-hidden--visually\" id=\"sk-estimator-id-2\" type=\"checkbox\" checked><label for=\"sk-estimator-id-2\" class=\"sk-toggleable__label fitted sk-toggleable__label-arrow fitted\">&nbsp;&nbsp;SGDClassifier<a class=\"sk-estimator-doc-link fitted\" rel=\"noreferrer\" target=\"_blank\" href=\"https://scikit-learn.org/1.4/modules/generated/sklearn.linear_model.SGDClassifier.html\">?<span>Documentation for SGDClassifier</span></a><span class=\"sk-estimator-doc-link fitted\">i<span>Fitted</span></span></label><div class=\"sk-toggleable__content fitted\"><pre>SGDClassifier(random_state=42)</pre></div> </div></div></div></div>"
      ],
      "text/plain": [
       "SGDClassifier(random_state=42)"
      ]
     },
     "execution_count": 30,
     "metadata": {},
     "output_type": "execute_result"
    }
   ],
   "source": [
    "nbDonnees = 48000\n",
    "shuffle_index = np.random.permutation(60000)\n",
    "index_train = shuffle_index[:nbDonnees]\n",
    "index_test = shuffle_index[nbDonnees:]\n",
    "\n",
    "sgd_clf = SGDClassifier(random_state=42) \n",
    "sgd_clf.fit(X.iloc[index_train], y_5.iloc[index_train])"
   ]
  },
  {
   "attachments": {},
   "cell_type": "markdown",
   "metadata": {},
   "source": [
    "## a) Evaluation des performances\n",
    "\n",
    "### Première évaluation\n",
    "\n",
    "Une première façon de faire est de tester le nombre de prédiction correcte:"
   ]
  },
  {
   "cell_type": "code",
   "execution_count": 31,
   "metadata": {},
   "outputs": [
    {
     "data": {
      "text/plain": [
       "0.9569166666666666"
      ]
     },
     "execution_count": 31,
     "metadata": {},
     "output_type": "execute_result"
    }
   ],
   "source": [
    "y_pred = sgd_clf.predict(X.iloc[index_test])\n",
    "taux_pred = sum(y_pred == y_5[index_test]) / (60000 - nbDonnees)\n",
    "taux_pred"
   ]
  },
  {
   "attachments": {},
   "cell_type": "markdown",
   "metadata": {},
   "source": [
    "Sachant que le classificateur le plus bête (qui classe tout en non-5) aurait un score de 90%, un score de 96% n'est pas très bon.\n",
    "\n",
    "### Matrice de confusion\n",
    "\n",
    "Il s'agit d'une matrice dont chaque ligne représente une étiquette (ici: 5), chaque colonne une prédiction (ici: non-5), et un coefficients (i,j) est donc le nombre de données avec l'étiquette i étant prédit avec l'étiquette j. \\\n",
    "On obtient les nombres de vrais/faux positifs/négatifs:"
   ]
  },
  {
   "cell_type": "code",
   "execution_count": 44,
   "metadata": {},
   "outputs": [
    {
     "name": "stdout",
     "output_type": "stream",
     "text": [
      "[[10848    56]\n",
      " [  477   619]]\n",
      "[[0.904      0.00466667]\n",
      " [0.03975    0.05158333]]\n"
     ]
    }
   ],
   "source": [
    "confusion = confusion_matrix(y_5[index_test], y_pred)\n",
    "TP = confusion[1][1]\n",
    "FP = confusion[0][1]\n",
    "TN = confusion[0][0]\n",
    "FN = confusion[1][0]\n",
    "\n",
    "print(confusion)\n",
    "print(confusion / (60000 - nbDonnees)) # Coefficient en pourcentage"
   ]
  },
  {
   "attachments": {},
   "cell_type": "markdown",
   "metadata": {},
   "source": [
    "### Précision et rappel\n",
    "\n",
    "Cette matrice devenant plus complexe lorsqu'on a beaucoup de classes, on utilise des outils plus simple.\n",
    "\n",
    "On peut s'interresser aux valeurs réelles ou aux prédictions, positives ou négatives, classées correctement ou non. <br>\n",
    "On définit ainsi 8 taux, quatre de rappel:\n",
    "* ```TPR```: Taux de 5 détecté comme 5 (Rappel Positif, ou True Positif Rate)\n",
    "* ```FNR``` = 1 - ```TPR```: Taux de 5 détecté comme non-5 (Oubli Positif, ou False Negatif Rate)\n",
    "* ```TNR```: Taux de non-5 détecté comme non-5 (Rappel Négatif, ou True Negatif Rate, ou spécificité)\n",
    "* ```FPR``` = 1 - ```TNR```: Taux de non 5 détecté comme 5 (Oubli Négatif, ou False Positif Rate)\n",
    "\n",
    "Et quatre de précision\n",
    "* ```precision```: Taux de prédictions 5 correctes (Précision positive)\n",
    "* ```imprecision```: Taux de prédiction 5 incorrectes (Imprécision positive)\n",
    "* ```prec_neg```: Taux de prédictions non-5 correctes (Précision négative)\n",
    "* ```imprec_neg```: Taux de prédictions non-5 incorrectes (Imprécision négative)"
   ]
  },
  {
   "cell_type": "code",
   "execution_count": 45,
   "metadata": {},
   "outputs": [],
   "source": [
    "TPR = TP / (TP + FN)\n",
    "FNR = FN / (TP + FN)\n",
    "\n",
    "TNR = TN / (TN + FP)\n",
    "FPR = FP / (TN + FP)\n",
    "\n",
    "precision = TP / (TP + FP)\n",
    "imprecision = FP / (TP + FP)\n",
    "\n",
    "prec_neg = TN / (TN + FN)\n",
    "imprec_neg = FN / (TN + FN)"
   ]
  },
  {
   "attachments": {},
   "cell_type": "markdown",
   "metadata": {},
   "source": [
    "### Moyenne harmonique\n",
    "\n",
    "La moyenne harmonique de n taux est définie par: $M_{harmonique} = n / \\sum_{k = 1}^{n} \\frac{1}{taux_k}$. \\\n",
    "Elle privilégie les taux similaires. Par exemple pour des taux de 0.25 et 0.75, la moyenne sera de 0.375, alors que pour deux taux de 0.5, la moyenne sera de 0.5."
   ]
  },
  {
   "cell_type": "code",
   "execution_count": 46,
   "metadata": {},
   "outputs": [
    {
     "name": "stdout",
     "output_type": "stream",
     "text": [
      "Précision: 0.917037037037037 \n",
      "Rappel: 0.5647810218978102 \n",
      "F1: 0.6990400903444383 \n",
      "F4: 0.8146308156068689 \n",
      "F4_false: 0.017181563073918767\n"
     ]
    }
   ],
   "source": [
    "F1 = 2 / (1 / precision + 1 / TPR) # Score F1, moyenne de la précision et du rappel\n",
    "F4 = 4 / sum([1 / taux for taux in [TPR, TNR, precision, prec_neg]])\n",
    "F4_false = 4 / sum([1 / taux for taux in [FNR, FPR, imprecision, imprec_neg]])\n",
    "\n",
    "print('Précision: {} \\nRappel: {} \\nF1: {} \\nF4: {} \\nF4_false: {}'.format(precision, TPR, F1, F4, F4_false))"
   ]
  },
  {
   "attachments": {},
   "cell_type": "markdown",
   "metadata": {},
   "source": [
    "### Autres scores\n",
    "Le score F1 favorise les classificateurs ayant une précision et un rappel similaire. Parfois, il faut accorder davantage d'importance à la précision, parfois au rappel (selon le problème à résoudre). \\\n",
    "C'est pourquoi on modifie le seuil à partir duquel une image est classée comme étant un 5 et on privilégie d'autres scores.\n"
   ]
  },
  {
   "cell_type": "code",
   "execution_count": 47,
   "metadata": {},
   "outputs": [
    {
     "name": "stdout",
     "output_type": "stream",
     "text": [
      "Precision:  0.917037037037037 \n",
      "Rappel:  0.5647810218978102 \n",
      "F1:  0.6990400903444383\n"
     ]
    }
   ],
   "source": [
    "y_scores = sgd_clf.decision_function(X.iloc[index_test]) # <np.ndarray> shape nbDonnees\n",
    "\n",
    "threshold = 295 # Seuil: 9905 pour un rappel de 1\n",
    "y_pred = y_scores > threshold\n",
    "\n",
    "confusion = confusion_matrix(y_5[index_test], y_pred)\n",
    "\n",
    "TP = confusion[1][1]\n",
    "FP = confusion[0][1]\n",
    "TN = confusion[0][0]\n",
    "FN = confusion[1][0]\n",
    "\n",
    "Precision = TP / (TP + FP)\n",
    "Rappel = TP / (TP + FN)\n",
    "F1 = 2 / (1/Precision + 1/Rappel)\n",
    "print('Precision: ', Precision, '\\nRappel: ', Rappel, '\\nF1: ', F1)"
   ]
  },
  {
   "attachments": {},
   "cell_type": "markdown",
   "metadata": {},
   "source": [
    "On peut ainsi afficher des graphiques pour choisir le compromis à faire:\n",
    "* Précision/Rappel (```precision```/```TPR```)\n",
    "* ROC (```TPR```/```FPR```)\n",
    "* Seuil (Courbe de rappel et de précision en fonction du seuil)\n",
    "* ...\n",
    "\n",
    "#### Affichage des graphiques"
   ]
  },
  {
   "cell_type": "code",
   "execution_count": 78,
   "metadata": {},
   "outputs": [],
   "source": [
    "def affichage(yArg_true, yArg_scores, thresholds = range(-5000, 5000, 100), xStr = 'threshold', yLst = ['precision', 'TPR', 'prec_neg', 'TNR']):\n",
    "    \"\"\"Affiche les courbes définies dans yLst en fonction de xStr\n",
    "\n",
    "    IN:\n",
    "        yArg_true (array-like): shape n, liste des labels réels\n",
    "        yArg_scores (array-like): shape n, liste des scores des labels prédits\n",
    "        thresholds (array-like): shape n, liste des seuils\n",
    "        xStr (str): abscisse du graphique\n",
    "        yLst (lst of str): ordonnées du graphique\n",
    "    \"\"\"\n",
    "    \n",
    "    P = sum(yArg_true) # Nombre de positifs\n",
    "    N = len(yArg_true) - P # Nombre de négatifs\n",
    "    T = len(thresholds)\n",
    "    TP, FP , TN, FN = np.zeros(T), np.zeros(T), np.zeros(T), np.zeros(T)\n",
    "    \n",
    "    # Récupération des vrais/faux positifs/négatifs\n",
    "    for i, threshold in enumerate(thresholds):\n",
    "        y_pred = yArg_scores > threshold\n",
    "        confusion = confusion_matrix(yArg_true, y_pred)\n",
    "\n",
    "        TP[i] = confusion[1][1]\n",
    "        FP[i] = confusion[0][1]\n",
    "        \n",
    "        TN[i] = confusion[0][0]\n",
    "        FN[i] = confusion[1][0]\n",
    "        \n",
    "    # Définition de l'abscisse (u[0]) et des ordonnées (u[i], i > 0)\n",
    "    u = []\n",
    "    \n",
    "    for uStr in [xStr] + yLst:\n",
    "        match uStr:\n",
    "            case 'threshold': u += [thresholds]\n",
    "            \n",
    "            case 'TPR': u += [TP / (TP + FN)]\n",
    "            case 'FNR': u += [FN / (TP + FN) ]\n",
    "\n",
    "            case 'TNR': u += [TN / (TN + FP) ]\n",
    "            case 'FPR': u += [FP / (TN + FP) ]\n",
    "\n",
    "            case 'precision': u += [TP / (TP + FP)]\n",
    "            case 'imprecision': u += [FP / (TP + FP)]\n",
    "\n",
    "            case 'prec_neg': u += [TN / (TN + FN) ]\n",
    "            case 'imprec_neg': u += [FN / (TN + FN) ]\n",
    "    \n",
    "    # Affichage\n",
    "    for i, y in enumerate(u[1:]):\n",
    "        plt.plot(u[0], y, label=yLst[i]) \n",
    "        \n",
    "    plt.xlabel(xStr)\n",
    "    plt.legend(loc=\"lower left\")\n",
    "    plt.show()\n",
    "    # plt.ylim([0, 1])"
   ]
  },
  {
   "attachments": {},
   "cell_type": "markdown",
   "metadata": {},
   "source": [
    "##### Courbe rappel/précision"
   ]
  },
  {
   "cell_type": "code",
   "execution_count": 50,
   "metadata": {},
   "outputs": [
    {
     "data": {
      "image/png": "[encoded data removed]",
      "text/plain": [
       "<Figure size 640x480 with 1 Axes>"
      ]
     },
     "metadata": {},
     "output_type": "display_data"
    }
   ],
   "source": [
    "abscisse = 'TPR'\n",
    "ordonnees = ['precision']\n",
    "\n",
    "affichage(y_5[index_test], y_scores, range(-5000, 5000, 100), abscisse, ordonnees)"
   ]
  },
  {
   "attachments": {},
   "cell_type": "markdown",
   "metadata": {},
   "source": [
    "##### Courbe ROC"
   ]
  },
  {
   "cell_type": "code",
   "execution_count": 52,
   "metadata": {},
   "outputs": [
    {
     "data": {
      "image/png": "[encoded data removed]",
      "text/plain": [
       "<Figure size 640x480 with 1 Axes>"
      ]
     },
     "metadata": {},
     "output_type": "display_data"
    }
   ],
   "source": [
    "abscisse = 'FPR'\n",
    "ordonnees = ['TPR']\n",
    "\n",
    "affichage(y_5[index_test], y_scores, range(-5000, 5000, 100), abscisse, ordonnees)"
   ]
  },
  {
   "attachments": {},
   "cell_type": "markdown",
   "metadata": {},
   "source": [
    "##### Courbes seuil"
   ]
  },
  {
   "cell_type": "code",
   "execution_count": 53,
   "metadata": {},
   "outputs": [
    {
     "data": {
      "image/png": "[encoded data removed]",
      "text/plain": [
       "<Figure size 640x480 with 1 Axes>"
      ]
     },
     "metadata": {},
     "output_type": "display_data"
    }
   ],
   "source": [
    "abscisse = 'threshold'\n",
    "ordonnees = ['precision', 'TPR', 'prec_neg', 'TNR']\n",
    "\n",
    "affichage(y_5[index_test], y_scores, range(-5000, 5000, 100), abscisse, ordonnees)"
   ]
  },
  {
   "attachments": {},
   "cell_type": "markdown",
   "metadata": {},
   "source": [
    "### Résumé\n",
    "Avec ```.decision_function```, on calcule un score pour chaque image indiquant s'il s'agit d'un 5. On définit un seuil à partir duquel on décide de classer l'image en 5.\\\n",
    "On dispose de quatre scores bruts: ```TP```, ```FP```, ```TN```, ```FN```.\\\n",
    "On peut définir quatre scores combinés: ```TPR```, ```TNR```, ```precision```, ```prec_neg```.\\\n",
    "On peut calculer la moyenne harmonique de plusieurs scores qui privilégie les scores similaires.\\\n",
    "Pour décider du seuil à utiliser, on affiche des graphiques. On dispose de deux types de graphiques:\n",
    "- Ceux qui admettent des scores en abscisse et en ordonnée.\n",
    "- Ceux qui admettent le seuil en abscisse et un ou plusieurs scores en ordonnées.\n",
    "\n",
    "### Implémentation des méthodes de scoring\n",
    "On réimplémentante la fonction ```affichage``` pour l'adapter à la validation croisée."
   ]
  },
  {
   "cell_type": "code",
   "execution_count": 92,
   "metadata": {},
   "outputs": [],
   "source": [
    "def scoring(yArg_true, yArg_probas, thresholds = range(-5000, 5000, 100)):\n",
    "    \"\"\"Calcul les scores TPR, TNR, precision, prec_neg pour chaque valeur de thresholds\n",
    "\n",
    "    IN:\n",
    "        yArg_true <array-like>: liste des labels réels\n",
    "        yArg_probas <list of tuple of <array_like, index> >: liste des scores des labels prédits\n",
    "        thresholds <array-like>: liste des seuils\n",
    "    OUT: <dict of list> Le dictionnaire a pour clés les noms des scores au format <str>\n",
    "                                               valeurs les listes des scores en fonction des valeurs de thresholds\n",
    "    \"\"\"\n",
    "\n",
    "    scores = {'TPR': [], 'TNR': [], 'precision': [], 'prec_neg': []}\n",
    "    taille = len(yArg_probas)\n",
    "    for i, threshold in enumerate(thresholds):\n",
    "        TPs, FPs, TNs, FNs = np.zeros(taille), np.zeros(taille), np.zeros(taille), np.zeros(taille) # \n",
    "\n",
    "        for j, probaIndex in enumerate(yArg_probas):\n",
    "            y_proba, index = probaIndex[0], probaIndex[1]\n",
    "\n",
    "            # Récupération des vrais/faux positifs/négatifs\n",
    "            y_pred = y_proba > threshold\n",
    "            confusion = confusion_matrix(yArg_true[index], y_pred)\n",
    "\n",
    "            TPs[j] = confusion[1][1]\n",
    "            FPs[j] = confusion[0][1]\n",
    "            \n",
    "            TNs[j] = confusion[0][0]\n",
    "            FNs[j] = confusion[1][0]\n",
    "            \n",
    "        TP = sum(TPs)\n",
    "        FP = sum(FPs)\n",
    "        TN = sum(TNs)\n",
    "        FN = sum(FNs)\n",
    "\n",
    "        scores['TPR'] += [TP / (TP + FN)]\n",
    "        scores['TNR'] += [TN / (TN + FP)]\n",
    "        scores['precision'] += [TP / (TP + FP)]\n",
    "        scores['prec_neg'] += [TN / (TN + FN)]\n",
    "    \n",
    "    return scores\n",
    "\n",
    "\n",
    "def affichage(yArg_true, yArg_probas, thresholds = range(-5000, 5000, 100), scoresToPrint = ['TPR', 'TNR', 'precision', 'prec_neg']):\n",
    "    \"\"\"Affiche les courbes des scores spécifiés dans scoresToPrint en fonction de thresholds\n",
    "\n",
    "    IN:\n",
    "        yArg_true <array-like>: liste des labels réels\n",
    "        yArg_probas <list of tuple of <array_like, index> >: liste des scores des labels prédits\n",
    "        thresholds <array-like>: liste des seuils\n",
    "        scores <list of str>: liste des scores à afficher\n",
    "    \"\"\"\n",
    "    \n",
    "    scores = scoring(yArg_true, yArg_probas, thresholds)\n",
    "    \n",
    "    # Affichage\n",
    "    for scoreName in scoresToPrint:\n",
    "        plt.plot(thresholds, scores[scoreName], label = scoreName) \n",
    "        \n",
    "    plt.legend(loc=\"lower left\")\n",
    "    plt.show()\n",
    "\n"
   ]
  },
  {
   "cell_type": "markdown",
   "metadata": {},
   "source": [
    "\n",
    "### Implémentation de la validation croisée\n",
    "\n",
    "On divise le jeu en ```nbPasse``` jeux."
   ]
  },
  {
   "cell_type": "code",
   "execution_count": 94,
   "metadata": {},
   "outputs": [],
   "source": [
    "def valid_croisee(model, XArg, yArg, nbPasse = 2):\n",
    "    # IN: model: modele de classification\n",
    "    #     XArg <DataFrame>: Nombre de division pour la validation croisée\n",
    "    #     yArg <int>: Nombre de division pour la validation croisée\n",
    "    #     nbPasse <int>: Nombre de division pour la validation croisée\n",
    "    skfolds = StratifiedKFold(n_splits=nbPasse, random_state = 42, shuffle = True)\n",
    "\n",
    "    y_proba = []\n",
    "\n",
    "    for train_index, test_index in skfolds.split(XArg, yArg): \n",
    "        clone_clf = clone(model)\n",
    "        \n",
    "        X_train = XArg.iloc[train_index]\n",
    "        y_train = yArg.iloc[train_index]\n",
    "\n",
    "        X_test = XArg.iloc[test_index]\n",
    "        \n",
    "        clone_clf.fit(X_train, y_train)\n",
    "        \n",
    "        proba = clone_clf.decision_function(X_test)\n",
    "        y_proba += [(proba, test_index)]\n",
    "\n",
    "    return y_proba\n",
    "\n",
    "y_proba = valid_croisee(model = sgd_clf, XArg = X, yArg = y_5, nbPasse = 8)"
   ]
  },
  {
   "cell_type": "code",
   "execution_count": 95,
   "metadata": {},
   "outputs": [
    {
     "data": {
      "image/png": "[encoded data removed]",
      "text/plain": [
       "<Figure size 640x480 with 1 Axes>"
      ]
     },
     "metadata": {},
     "output_type": "display_data"
    }
   ],
   "source": [
    "affichage(yArg_true= y_5, yArg_probas= y_proba)"
   ]
  },
  {
   "attachments": {},
   "cell_type": "markdown",
   "metadata": {},
   "source": [
    "## b) Recherche et évaluation d'autres modèles\n"
   ]
  },
  {
   "cell_type": "code",
   "execution_count": 105,
   "metadata": {},
   "outputs": [],
   "source": [
    "X = Train_img.copy()\n",
    "y_5 = (Train_lab == '5').copy()\n",
    "\n",
    "def affichage(y_true, y_proba, thresholds = range(-5000, 5000, 100), scoresToPrint = ['TPR', 'TNR', 'precision', 'prec_neg']):\n",
    "    nbThreshold = len(thresholds)\n",
    "    TP, FP, TN, FN = np.zeros(nbThreshold), np.zeros(nbThreshold), np.zeros(nbThreshold), np.zeros(nbThreshold)\n",
    "    for i, threshold in enumerate(thresholds):\n",
    "        y_pred = y_proba > threshold\n",
    "        matrice = confusion_matrix(y_true = y_true, y_pred = y_pred)\n",
    "\n",
    "        TP[i] = matrice[1][1]\n",
    "        FP[i] = matrice[0][1]\n",
    "        TN[i] = matrice[0][0]\n",
    "        FN[i] = matrice[1][0]\n",
    "\n",
    "    for score in scoresToPrint:\n",
    "        match score:\n",
    "            case 'TPR': plt.plot(thresholds, TP / (TP + FN), label = score)\n",
    "            case 'TNR': plt.plot(thresholds, TN / (TN + FP), label = score)\n",
    "            case 'precision': plt.plot(thresholds, TP / (TP + FP), label = score)\n",
    "            case 'prec_neg': plt.plot(thresholds, TN / (TN + FN), label = score)\n",
    "        \n",
    "    plt.legend(loc=\"lower left\")\n",
    "    plt.show()\n",
    "\n"
   ]
  },
  {
   "cell_type": "markdown",
   "metadata": {},
   "source": [
    "### SGD"
   ]
  },
  {
   "cell_type": "code",
   "execution_count": 97,
   "metadata": {},
   "outputs": [],
   "source": [
    "sgd_clf = SGDClassifier(random_state=42) \n",
    "y_scores_sgd = cross_val_predict(sgd_clf, X, y_5, cv=8, method=\"decision_function\")"
   ]
  },
  {
   "cell_type": "code",
   "execution_count": 106,
   "metadata": {},
   "outputs": [
    {
     "data": {
      "image/png": "[encoded data removed]",
      "text/plain": [
       "<Figure size 640x480 with 1 Axes>"
      ]
     },
     "metadata": {},
     "output_type": "display_data"
    }
   ],
   "source": [
    "affichage(y_5, y_scores_sgd)"
   ]
  },
  {
   "attachments": {},
   "cell_type": "markdown",
   "metadata": {},
   "source": [
    "### Forêt aléatoire"
   ]
  },
  {
   "cell_type": "code",
   "execution_count": 101,
   "metadata": {},
   "outputs": [],
   "source": [
    "forest_clf = RandomForestClassifier(random_state=42)\n",
    "y_probas_forest = cross_val_predict(forest_clf, X, y_5, cv=8, method=\"predict_proba\")\n",
    "y_scores_forest = y_probas_forest[:, 1]"
   ]
  },
  {
   "cell_type": "code",
   "execution_count": 107,
   "metadata": {},
   "outputs": [],
   "source": [
    "affichage(y_5, y_scores_forest, np.linspace(0.1, 0.9, 150))\n",
    "affichage(y_5, y_scores_forest, np.linspace(0.27, 0.35, 150))"
   ]
  },
  {
   "attachments": {},
   "cell_type": "markdown",
   "metadata": {},
   "source": [
    "# (3) Classification multi-classe\n"
   ]
  },
  {
   "cell_type": "code",
   "execution_count": 103,
   "metadata": {},
   "outputs": [],
   "source": [
    "X = Train_img.copy()\n",
    "y = Train_lab.copy()\n",
    "\n",
    "def affichage(y_true, y_proba, thresholds = range(-5000, 5000, 100), scoresToPrint = ['TPR', 'TNR', 'precision', 'prec_neg']):\n",
    "    nbThreshold = len(thresholds)\n",
    "    TP, FP, TN, FN = np.zeros(nbClasses, nbThreshold), np.zeros(nbClasses, nbThreshold), np.zeros(nbClasses, nbThreshold), np.zeros(nbClasses, nbThreshold)\n",
    "\n",
    "    nbClasses = len(np.unique(y_true)) # Nombre de classes\n",
    "    \n",
    "    # Récupération des vrais/faux positifs/négatifs\n",
    "    for i in range(nbClasses):\n",
    "        for j, threshold in enumerate(thresholds):\n",
    "            y_pred = y_proba[:, i] > threshold\n",
    "            confusion = confusion_matrix(y_true, y_pred)\n",
    "\n",
    "            TP[i, j] = confusion[1][1]\n",
    "            FP[i, j] = confusion[0][1]\n",
    "            \n",
    "            TN[i, j] = confusion[0][0]\n",
    "            FN[i, j] = confusion[1][0]\n",
    "\n",
    "    for score in scoresToPrint:\n",
    "        match score:\n",
    "            case 'TPR': plt.plot(thresholds, TP / (TP + FN), label = score)\n",
    "            case 'TNR': plt.plot(thresholds, TN / (TN + FP), label = score)\n",
    "            case 'precision': plt.plot(thresholds, TP / (TP + FP), label = score)\n",
    "            case 'prec_neg': plt.plot(thresholds, TN / (TN + FN), label = score)\n",
    "        \n",
    "    plt.legend(loc=\"lower left\")\n",
    "    plt.show()"
   ]
  },
  {
   "cell_type": "markdown",
   "metadata": {},
   "source": [
    "\n",
    "Deux stratégies:\n",
    "* OneVsAll: On entraine un classificateur comme ci-dessus par classe.\n",
    "* OneVsOne: On entraine n(n-1)/2 classificateurs avec un jeu de données restreint à deux classes.\n",
    "\n",
    "En général, on utilise le OneVsAll. Le OneVsOne est utile lorsqu'un algorithme préfère de petits jeux de données (comme le SVM).\n",
    "\n",
    "```SGDClassifier``` utilise la stratégie OneVsAll par défaut lorsqu'on lui donne un jeu de données multi-classe:"
   ]
  },
  {
   "cell_type": "code",
   "execution_count": 27,
   "metadata": {},
   "outputs": [],
   "source": [
    "sgd_clf = SGDClassifier(random_state=42) \n",
    "y_scores_sgd = cross_val_predict(sgd_clf, X, Y, cv=3, method=\"decision_function\")"
   ]
  },
  {
   "cell_type": "code",
   "execution_count": 49,
   "metadata": {},
   "outputs": [
    {
     "data": {
      "text/plain": [
       "array([-29613.12605767,  27082.35774008, -54591.21673055, ...,\n",
       "       -60262.4062281 , -57128.52065763,  38126.23875451])"
      ]
     },
     "execution_count": 49,
     "metadata": {},
     "output_type": "execute_result"
    }
   ],
   "source": [
    "\n"
   ]
  },
  {
   "cell_type": "code",
   "execution_count": 6,
   "metadata": {},
   "outputs": [
    {
     "name": "stdout",
     "output_type": "stream",
     "text": [
      "heelo: 2 and 3\n"
     ]
    }
   ],
   "source": []
  },
  {
   "cell_type": "code",
   "execution_count": null,
   "metadata": {},
   "outputs": [],
   "source": []
  }
 ],
 "metadata": {
  "kernelspec": {
   "display_name": "Python 3",
   "language": "python",
   "name": "python3"
  },
  "language_info": {
   "codemirror_mode": {
    "name": "ipython",
    "version": 3
   },
   "file_extension": ".py",
   "mimetype": "text/x-python",
   "name": "python",
   "nbconvert_exporter": "python",
   "pygments_lexer": "ipython3",
   "version": "3.11.5"
  },
  "orig_nbformat": 4,
  "vscode": {
   "interpreter": {
    "hash": "aee8b7b246df8f9039afb4144a1f6fd8d2ca17a180786b69acc140d282b71a49"
   }
  }
 },
 "nbformat": 4,
 "nbformat_minor": 2
}
