{
 "cells": [
  {
   "attachments": {},
   "cell_type": "markdown",
   "metadata": {},
   "source": [
    "# (0) Librairies"
   ]
  },
  {
   "cell_type": "code",
   "execution_count": 1,
   "metadata": {},
   "outputs": [],
   "source": [
    "# (1) Importation des données\n",
    "import numpy as np\n",
    "import matplotlib.pyplot as plt\n",
    "import matplotlib\n",
    "import pandas as pd\n",
    "\n",
    "import openml\n",
    "from openml import datasets as ml\n",
    "\n",
    "# (2) Détecteur de 5\n",
    "from sklearn.linear_model import SGDClassifier\n",
    "from sklearn.metrics import confusion_matrix\n",
    "\n",
    "from sklearn.model_selection import cross_val_predict\n",
    "from sklearn.model_selection import StratifiedKFold \n",
    "from sklearn.base import clone\n",
    "from sklearn.ensemble import RandomForestClassifier"
   ]
  },
  {
   "attachments": {},
   "cell_type": "markdown",
   "metadata": {},
   "source": [
    "# (1) Importation des données\n",
    "\n",
    "On sépare les images dans ```images``` et les labels dans ```labels```, on les mélange puis on crée un jeu de test et un d'entrainement:"
   ]
  },
  {
   "cell_type": "code",
   "execution_count": 2,
   "metadata": {},
   "outputs": [
    {
     "name": "stderr",
     "output_type": "stream",
     "text": [
      "/var/folders/l4/tj2026g138127nm7gbw5ljb00000gn/T/ipykernel_26435/3413094728.py:1: FutureWarning: Starting from Version 0.15 `download_data`, `download_qualities`, and `download_features_meta_data` will all be ``False`` instead of ``True`` by default to enable lazy loading. To disable this message until version 0.15 explicitly set `download_data`, `download_qualities`, and `download_features_meta_data` to a bool while calling `get_dataset`.\n",
      "  dataset = ml.get_dataset(554)\n"
     ]
    }
   ],
   "source": [
    "dataset = ml.get_dataset(554)\n",
    "data, y, cat_indicator, att_names = dataset.get_data(dataset_format = 'dataframe')\n",
    "\n",
    "shuffle_index = np.random.permutation(70000)\n",
    "\n",
    "Train = data.iloc[shuffle_index[:60000]] # <pandas.core.frame.DataFrame>\n",
    "Test = data.iloc[shuffle_index[60000:70000]] # <pandas.core.frame.DataFrame>\n",
    "\n",
    "Train.set_index(np.arange(0, 60000), inplace = True)\n",
    "Test.set_index(np.arange(0, 10000), inplace = True)\n",
    "\n",
    "Train_img = Train.drop('class', axis = 1, inplace = False)\n",
    "Train_lab = Train['class']\n",
    "Test_img = Test.drop('class', axis = 1, inplace = False)\n",
    "Test_lab = Test['class']"
   ]
  },
  {
   "attachments": {},
   "cell_type": "markdown",
   "metadata": {},
   "source": [
    "Utilisation basique des données:"
   ]
  },
  {
   "cell_type": "code",
   "execution_count": 3,
   "metadata": {},
   "outputs": [
    {
     "name": "stdout",
     "output_type": "stream",
     "text": [
      "1\n"
     ]
    },
    {
     "data": {
      "image/png": "[encoded data removed]",
      "text/plain": [
       "<Figure size 640x480 with 1 Axes>"
      ]
     },
     "metadata": {},
     "output_type": "display_data"
    }
   ],
   "source": [
    "def affiche_data(i):\n",
    "    print(data['class'][i])\n",
    "    img = data.drop('class', axis = 1, inplace = False).iloc[i]\n",
    "    img_tab = np.array(img).reshape((28, 28)).astype('float')\n",
    "\n",
    "    fig = plt.figure(frameon=False)\n",
    "    im2 = plt.imshow(img_tab, cmap = matplotlib.cm.binary, interpolation=\"nearest\") \n",
    "    plt.axis(\"off\")\n",
    "\n",
    "    plt.show()\n",
    "    \n",
    "def affiche_Train(i):\n",
    "    print(Train_lab.iloc[i])\n",
    "    img = Train_img.iloc[i]\n",
    "    \n",
    "    img_tab = np.array(img).reshape((28, 28)).astype('float')\n",
    "    fig = plt.figure(frameon=False)\n",
    "    im2 = plt.imshow(img_tab, cmap = matplotlib.cm.binary, interpolation=\"nearest\") \n",
    "    plt.axis(\"off\")\n",
    "\n",
    "    plt.show()\n",
    "\n",
    "def affiche_Test(i):\n",
    "    print(Test_lab.iloc[i])\n",
    "    img = Test_img.iloc[i]\n",
    "    \n",
    "    img_tab = np.array(img).reshape((28, 28)).astype('float')\n",
    "    fig = plt.figure(frameon=False)\n",
    "    im2 = plt.imshow(img_tab, cmap = matplotlib.cm.binary, interpolation=\"nearest\") \n",
    "    plt.axis(\"off\")\n",
    "\n",
    "    plt.show()\n",
    "    \n",
    "n = 283\n",
    "affiche_Test(n)"
   ]
  },
  {
   "attachments": {},
   "cell_type": "markdown",
   "metadata": {},
   "source": [
    "# (2) Détecteur de 5\n",
    "\n",
    "Nous allons commencer par détecter si un chiffre est un 5 ou non (classificateur binaire).\n",
    "\n",
    "On commence par crée un vecteur d'étiquettes booléennes qui sont vraies si l'image est un 5:"
   ]
  },
  {
   "cell_type": "code",
   "execution_count": null,
   "metadata": {},
   "outputs": [],
   "source": [
    "X = Train_img\n",
    "y_5 = (Train_lab == '5')"
   ]
  },
  {
   "attachments": {},
   "cell_type": "markdown",
   "metadata": {},
   "source": [
    "On choisit ensuite un classificateur que l'on entraine avec les données:"
   ]
  },
  {
   "cell_type": "code",
   "execution_count": null,
   "metadata": {},
   "outputs": [],
   "source": [
    "sgd_clf = SGDClassifier(random_state=42) \n",
    "sgd_clf.fit(X, y_5)"
   ]
  },
  {
   "attachments": {},
   "cell_type": "markdown",
   "metadata": {},
   "source": [
    "### a) Evaluation des performances\n",
    "\n",
    "##### Première évaluation\n",
    "\n",
    "Une première façon de faire est de tester le nombre de prédiction correcte:"
   ]
  },
  {
   "cell_type": "code",
   "execution_count": null,
   "metadata": {},
   "outputs": [],
   "source": [
    "nbDonnees = 10000\n",
    "\n",
    "shuffle_index = np.random.permutation(60000)\n",
    "y_pred = sgd_clf.predict(X.iloc[shuffle_index[:nbDonnees]])\n",
    "taux_pred = sum(y_pred == y_5[shuffle_index[:nbDonnees]]) / nbDonnees\n",
    "taux_pred"
   ]
  },
  {
   "attachments": {},
   "cell_type": "markdown",
   "metadata": {},
   "source": [
    "Le problème est qu'il y a 90% de non-5. Le classificateur le plus bête (qui classe tout en non-5) aurait donc un score de 90%.\n",
    "\n",
    "##### Matrice de confusion\n",
    "\n",
    "Il s'agit d'une matrice dont chaque ligne représente une étiquette (exp: 5), chaque colonne une prédiction (exp: non-5), et les coefficients (i,j) sont donc le nombre de données avec l'étiquette i étant prédit avec l'étiquette j. <br>\n",
    "On obtient les nombres de vrais/faux positifs/négatifs:"
   ]
  },
  {
   "cell_type": "code",
   "execution_count": null,
   "metadata": {},
   "outputs": [],
   "source": [
    "confusion = confusion_matrix(y_5[shuffle_index[:nbDonnees]], y_pred)\n",
    "TP = confusion[1][1]\n",
    "FP = confusion[0][1]\n",
    "TN = confusion[0][0]\n",
    "FN = confusion[1][0]\n",
    "\n",
    "confusion"
   ]
  },
  {
   "attachments": {},
   "cell_type": "markdown",
   "metadata": {},
   "source": [
    "##### Précision et rappel\n",
    "\n",
    "Cette matrice devenant plus complexe lorsqu'on a beaucoup de classes, on utilise des outils plus simple.\n",
    "\n",
    "On peut s'interresser aux valeurs réelles ou aux prédictions, positives ou négatives, classées correctement ou non. <br>\n",
    "On définit ainsi 8 taux :\n",
    "* ```TPR```: Taux de 5 détecté comme 5 (Rappel Positif) et ```?``` = 1 - ```TPR```\n",
    "* ```FPR```: Taux de non 5 détecté comme 5 (False Positif Rate)\n",
    "* ```TNR```: Taux de non-5 détecté comme non-5 (True Negatif Rate; spécificité) et ```RFN``` = 1 - ```RTN```\n",
    "* ..."
   ]
  },
  {
   "cell_type": "code",
   "execution_count": null,
   "metadata": {},
   "outputs": [],
   "source": [
    "# Rappel\n",
    "\n",
    "# Valeurs positives classées...\n",
    "TPR = TP / (TP + FN) # ... correctement (True Positif Rate; Rappel positif)\n",
    "FNR = FN / (TP + FN) # ... incorrectement (Oubli positif)\n",
    "\n",
    "# Valeurs négatives classées...\n",
    "TNR = TN / (TN + FP) # ... correctement (True Negatif Rate; Spécificité; Rappel négatif)\n",
    "FPR = FP / (TN + FP) # ... incorrectement (Oubli négatif)\n",
    "\n",
    "\n",
    "# Précision\n",
    "\n",
    "# Prédictions positives qui ont été classées...\n",
    "precision = TP / (TP + FP) # ... correctement (Précision positive)\n",
    "imprecision = FP / (TP + FP) # ... incorrectement (Imprécision négative)\n",
    "\n",
    "# Prédictions négatives qui ont été classées...\n",
    "prec_neg = TN / (TN + FN) # ... correctement (Précision négative)\n",
    "imprec_neg = FN / (TN + FN) # ... incorrectement (Imprécision négative)"
   ]
  },
  {
   "attachments": {},
   "cell_type": "markdown",
   "metadata": {},
   "source": [
    "##### Moyenne harmonique\n",
    "\n",
    "La moyenne harmonique de n taux est définie par: ```moy = n / sum(1 / taux[n])```."
   ]
  },
  {
   "cell_type": "code",
   "execution_count": null,
   "metadata": {},
   "outputs": [],
   "source": [
    "F1 = 2 / (1 / precision + 1 / TPR) # Score F1, moyenne de la précision et du rappel\n",
    "F4 = 4 / sum([1 / taux for taux in [TPR, TNR, precision, prec_neg]])\n",
    "F4_neg = 4 / sum([1 / taux for taux in [FNR, FPR, imprecision, imprec_neg]])\n",
    "\n",
    "print('Precision: ', precision, '\\nRappel: ', TPR, '\\nF1: ', F1)"
   ]
  },
  {
   "attachments": {},
   "cell_type": "markdown",
   "metadata": {},
   "source": [
    "Le score F1 favorise les classificateurs ayant une précision et un rappel similaire. <br> Parfois, il faut accorder davantage d'importance à la précision, parfois au rappel (selon le problème à résoudre). C'est pourquoi on modifie le seuil à partir duquel une image est classée comme étant un 5:"
   ]
  },
  {
   "cell_type": "code",
   "execution_count": null,
   "metadata": {},
   "outputs": [],
   "source": [
    "y_scores = sgd_clf.decision_function(X.iloc[shuffle_index[:nbDonnees]]) # <np.ndarray> shape nbDonnees\n",
    "\n",
    "threshold = 2905 # Seuil: 9905 pour un rappel de 1\n",
    "y_pred = y_scores > threshold\n",
    "\n",
    "confusion = confusion_matrix(y_5[shuffle_index[:nbDonnees]], y_pred)\n",
    "\n",
    "TP = confusion[1][1]\n",
    "FP = confusion[0][1]\n",
    "TN = confusion[0][0]\n",
    "FN = confusion[1][0]\n",
    "\n",
    "Precision = TP / (TP + FP)\n",
    "Rappel = TP / (TP + FN)\n",
    "F1 = 2 / (1/Precision + 1/Rappel)\n",
    "print('Precision: ', Precision, '\\nRappel: ', Rappel, '\\nF1: ', F1)"
   ]
  },
  {
   "attachments": {},
   "cell_type": "markdown",
   "metadata": {},
   "source": [
    "On peut ainsi afficher des graphiques pour choisir le compromis à faire:\n",
    "* Précision/Rappel (```precision```/```TPR```)\n",
    "* ROC (```TPR```/```FPR```)\n",
    "* Seuil (Courbe de rappel et de précision en fonction du seuil)\n",
    "* ...\n",
    "\n",
    "#### Affichage des graphiques"
   ]
  },
  {
   "cell_type": "code",
   "execution_count": 31,
   "metadata": {},
   "outputs": [],
   "source": [
    "def affichage(yArg_true, yArg_scores, thresholds, xStr = 'threshold', yLst = ['precision', 'TPR', 'prec_neg', 'TNR']):\n",
    "    \"\"\"Affiche les courbes définies dans yLst en fonction de xStr\n",
    "\n",
    "    Args:\n",
    "        yArg_true (array-like): shape n, liste des labels réels\n",
    "        yArg_scores (array-like): shape n, liste des scores des labels prédits\n",
    "        thresholds (array-like): shape n, liste des seuils\n",
    "        xStr (str): abscisse du graphique\n",
    "        yLst (lst of str): ordonnées du graphique\n",
    "    \"\"\"\n",
    "    \n",
    "    P = sum(yArg_true) # Nombre de positifs\n",
    "    N = len(yArg_true) - P # Nombre de négatifs\n",
    "    T = len(thresholds)\n",
    "    TP, FP , TN, FN = np.zeros(T), np.zeros(T), np.zeros(T), np.zeros(T)\n",
    "    \n",
    "    # Récupération des vrais/faux positifs/négatifs\n",
    "    for i, threshold in enumerate(thresholds):\n",
    "        y_pred = yArg_scores > threshold\n",
    "        confusion = confusion_matrix(yArg_true, y_pred)\n",
    "\n",
    "        TP[i] = confusion[1][1]\n",
    "        FP[i] = confusion[0][1]\n",
    "        \n",
    "        TN[i] = confusion[0][0]\n",
    "        FN[i] = confusion[1][0]\n",
    "        \n",
    "    # Définition de l'abscisse (u[0]) et ordonnées (u[i], i > 0)\n",
    "    u = []\n",
    "    \n",
    "    for uStr in [xStr] + yLst:\n",
    "        match uStr:\n",
    "            case 'threshold': u += [thresholds]\n",
    "            \n",
    "            case 'TPR': u += [TP / (TP + FN)]\n",
    "            case 'FNR': u += [FN / (TP + FN) ]\n",
    "\n",
    "            case 'TNR': u += [TN / (TN + FP) ]\n",
    "            case 'FPR': u += [FP / (TN + FP) ]\n",
    "\n",
    "            case 'precision': u += [TP / (TP + FP)]\n",
    "            case 'imprecision': u += [FP / (TP + FP)]\n",
    "\n",
    "            case 'prec_neg': u += [TN / (TN + FN) ]\n",
    "            case 'imprec_neg': u += [FN / (TN + FN) ]\n",
    "    \n",
    "    # Affichage\n",
    "    for i, y in enumerate(u[1:]):\n",
    "        plt.plot(u[0], y, label=yLst[i]) \n",
    "        \n",
    "    plt.xlabel(xStr)\n",
    "    plt.legend(loc=\"lower left\")\n",
    "    # plt.ylim([0, 1])"
   ]
  },
  {
   "attachments": {},
   "cell_type": "markdown",
   "metadata": {},
   "source": [
    "##### Courbe rappel/précision"
   ]
  },
  {
   "cell_type": "code",
   "execution_count": null,
   "metadata": {},
   "outputs": [],
   "source": [
    "abscisse = 'TPR'\n",
    "ordonnees = ['precision']\n",
    "\n",
    "affichage(y_5[shuffle_index[:nbDonnees]], y_scores, range(-5000, 5000, 100), abscisse, ordonnees)\n",
    "plt.show()"
   ]
  },
  {
   "attachments": {},
   "cell_type": "markdown",
   "metadata": {},
   "source": [
    "##### Courbe ROC"
   ]
  },
  {
   "cell_type": "code",
   "execution_count": null,
   "metadata": {},
   "outputs": [],
   "source": [
    "abscisse = 'FPR'\n",
    "ordonnees = ['TPR']\n",
    "\n",
    "affichage(y_5[shuffle_index[:nbDonnees]], y_scores, range(-5000, 5000, 100), abscisse, ordonnees)\n",
    "plt.show()"
   ]
  },
  {
   "attachments": {},
   "cell_type": "markdown",
   "metadata": {},
   "source": [
    "##### Courbes seuil"
   ]
  },
  {
   "cell_type": "code",
   "execution_count": null,
   "metadata": {},
   "outputs": [],
   "source": [
    "abscisse = 'threshold'\n",
    "ordonnees = ['precision', 'TPR', 'prec_neg', 'TNR']\n",
    "\n",
    "affichage(y_5[shuffle_index[:nbDonnees]], y_scores, range(-5000, 5000, 100), abscisse, ordonnees)\n",
    "plt.show()"
   ]
  },
  {
   "attachments": {},
   "cell_type": "markdown",
   "metadata": {},
   "source": [
    "#### Implémentation de la validation croisée"
   ]
  },
  {
   "cell_type": "code",
   "execution_count": null,
   "metadata": {},
   "outputs": [],
   "source": [
    "skfolds = StratifiedKFold(n_splits=2, random_state = 42, shuffle = True)\n",
    "model = sgd_clf\n",
    "i = 0\n",
    "\n",
    "for train_index, test_index in skfolds.split(Train_img, Train_lab): \n",
    "    print('\\n', i)\n",
    "    clone_clf = clone(model)\n",
    "    \n",
    "    print(' train')\n",
    "    X_train = Train_img.iloc[train_index]\n",
    "    y_train = Train_lab.iloc[train_index]\n",
    "\n",
    "    print(' test')\n",
    "    X_test = Train_img.iloc[test_index] \n",
    "    y_test = Train_lab.iloc[test_index]\n",
    "    \n",
    "    print(' fit')\n",
    "    clone_clf.fit(X_train, y_train)\n",
    "    \n",
    "    print('predict')\n",
    "    y_pred = clone_clf.predict(X_test)\n",
    "    n_correct = sum(y_pred == y_test)\n",
    "    \n",
    "    print(n_correct / len(y_pred))\n",
    "    i += 1"
   ]
  },
  {
   "attachments": {},
   "cell_type": "markdown",
   "metadata": {},
   "source": [
    "### b) Recherche et évaluation d'autres modèles\n"
   ]
  },
  {
   "cell_type": "code",
   "execution_count": 38,
   "metadata": {},
   "outputs": [],
   "source": [
    "X = Train_img\n",
    "Y = Train_lab\n",
    "y_5 = (Train_lab == '5')"
   ]
  },
  {
   "cell_type": "markdown",
   "metadata": {},
   "source": [
    "\n",
    "#### SGD"
   ]
  },
  {
   "cell_type": "code",
   "execution_count": 11,
   "metadata": {},
   "outputs": [],
   "source": [
    "sgd_clf = SGDClassifier(random_state=42) \n",
    "y_scores_sgd = cross_val_predict(sgd_clf, X, y_5, cv=3, method=\"decision_function\")"
   ]
  },
  {
   "cell_type": "code",
   "execution_count": 32,
   "metadata": {},
   "outputs": [
    {
     "data": {
      "image/png": "[encoded data removed]",
      "text/plain": [
       "<Figure size 432x288 with 1 Axes>"
      ]
     },
     "metadata": {
      "needs_background": "light"
     },
     "output_type": "display_data"
    }
   ],
   "source": [
    "affichage(y_5, y_scores_sgd, np.linspace(-5000, 5000, 150))\n",
    "plt.show()"
   ]
  },
  {
   "attachments": {},
   "cell_type": "markdown",
   "metadata": {},
   "source": [
    "#### Forêt aléatoire"
   ]
  },
  {
   "cell_type": "code",
   "execution_count": 20,
   "metadata": {},
   "outputs": [],
   "source": [
    "forest_clf = RandomForestClassifier(random_state=42)\n",
    "y_probas_forest = cross_val_predict(forest_clf, X, y_5, cv=3, method=\"predict_proba\")\n",
    "y_scores_forest = y_probas_forest[:, 1]"
   ]
  },
  {
   "cell_type": "code",
   "execution_count": 37,
   "metadata": {},
   "outputs": [
    {
     "data": {
      "image/png": "[encoded data removed]",
      "text/plain": [
       "<Figure size 432x288 with 1 Axes>"
      ]
     },
     "metadata": {
      "needs_background": "light"
     },
     "output_type": "display_data"
    },
    {
     "data": {
      "image/png": "[encoded data removed]",
      "text/plain": [
       "<Figure size 432x288 with 1 Axes>"
      ]
     },
     "metadata": {
      "needs_background": "light"
     },
     "output_type": "display_data"
    }
   ],
   "source": [
    "affichage(y_5, y_scores_forest, np.linspace(0.1, 0.9, 150))\n",
    "plt.show()\n",
    "affichage(y_5, y_scores_forest, np.linspace(0.27, 0.35, 150))\n",
    "plt.show()"
   ]
  },
  {
   "attachments": {},
   "cell_type": "markdown",
   "metadata": {},
   "source": [
    "# (3) Classification multi-classe\n",
    "\n",
    "Deux stratégies:\n",
    "* OneVsAll: On entraine un classificateur comme ci-dessus par classe.\n",
    "* OneVsOne: On entraine n(n-1)/2 classificateurs avec un jeu de données restreint à deux classes.\n",
    "\n",
    "En général, on utilise le OneVsAll. Le OneVsOne est utile lorsqu'un algorithme préfère de petits jeux de données (comme le SVM).\n",
    "\n",
    "```SGDClassifier``` utilise la stratégie OneVsAll par défaut lorsqu'on lui donne un jeu de données multi-classe:"
   ]
  },
  {
   "cell_type": "code",
   "execution_count": 39,
   "metadata": {},
   "outputs": [],
   "source": [
    "sgd_clf = SGDClassifier(random_state=42) \n",
    "y_scores_sgd = cross_val_predict(sgd_clf, X, Y, cv=3, method=\"decision_function\")"
   ]
  },
  {
   "cell_type": "code",
   "execution_count": null,
   "metadata": {},
   "outputs": [],
   "source": [
    "def affichage(yArg_true, yArg_scores, thresholds, xStr = 'threshold', yLst = ['precision', 'TPR', 'prec_neg', 'TNR']):\n",
    "    \"\"\"Affiche les courbes définies dans yLst en fonction de xStr\n",
    "\n",
    "    Args:\n",
    "        yArg_true (array-like): shape n, liste des labels réels\n",
    "        yArg_scores (array-like): shape n, liste des scores des labels prédits\n",
    "        thresholds (array-like): shape n, liste des seuils\n",
    "        xStr (str): abscisse du graphique\n",
    "        yLst (lst of str): ordonnées du graphique\n",
    "    \"\"\"\n",
    "    \n",
    "    P = sum(yArg_true) # Nombre de positifs\n",
    "    N = len(yArg_true) - P # Nombre de négatifs\n",
    "    T = len(thresholds) # Nombre total de données\n",
    "    nbClasses = len(np.unique(yArg_true)) # Nombre de classes\n",
    "    \n",
    "    # Récupération des vrais/faux positifs/négatifs\n",
    "    for j in range(nbClasses):\n",
    "        TP, FP, TN, FN = np.zeros(nbClasses, T), np.zeros(nbClasses, T), np.zeros(nbClasses, T), np.zeros(nbClasses, T)\n",
    "        for i, threshold in enumerate(thresholds):\n",
    "            y_pred = yArg_scores[:, j] > threshold\n",
    "            confusion = confusion_matrix(yArg_true, y_pred)\n",
    "\n",
    "            TP[j, i] = confusion[1][1]\n",
    "            FP[j, i] = confusion[0][1]\n",
    "            \n",
    "            TN[j, i] = confusion[0][0]\n",
    "            FN[j, i] = confusion[1][0]\n",
    "        \n",
    "    # Définition de l'abscisse (u[0]) et ordonnées (u[i], i > 0)\n",
    "    u = []\n",
    "    \n",
    "    for uStr in [xStr] + yLst:\n",
    "        match uStr:\n",
    "            case 'threshold': u += [thresholds]\n",
    "            \n",
    "            case 'TPR': u += [TP / (TP + FN)]\n",
    "            case 'FNR': u += [FN / (TP + FN) ]\n",
    "\n",
    "            case 'TNR': u += [TN / (TN + FP) ]\n",
    "            case 'FPR': u += [FP / (TN + FP) ]\n",
    "\n",
    "            case 'precision': u += [TP / (TP + FP)]\n",
    "            case 'imprecision': u += [FP / (TP + FP)]\n",
    "\n",
    "            case 'prec_neg': u += [TN / (TN + FN) ]\n",
    "            case 'imprec_neg': u += [FN / (TN + FN) ]\n",
    "    \n",
    "    # Affichage\n",
    "    for i, y in enumerate(u[1:]):\n",
    "        plt.plot(u[0], y, label=yLst[i]) \n",
    "        \n",
    "    plt.xlabel(xStr)\n",
    "    plt.legend(loc=\"lower left\")\n",
    "    # plt.ylim([0, 1])"
   ]
  },
  {
   "cell_type": "code",
   "execution_count": 49,
   "metadata": {},
   "outputs": [
    {
     "data": {
      "text/plain": [
       "array([-29613.12605767,  27082.35774008, -54591.21673055, ...,\n",
       "       -60262.4062281 , -57128.52065763,  38126.23875451])"
      ]
     },
     "execution_count": 49,
     "metadata": {},
     "output_type": "execute_result"
    }
   ],
   "source": [
    "y_scores_sgd[:, 0]\n"
   ]
  },
  {
   "cell_type": "code",
   "execution_count": null,
   "metadata": {},
   "outputs": [],
   "source": []
  }
 ],
 "metadata": {
  "kernelspec": {
   "display_name": "Python 3",
   "language": "python",
   "name": "python3"
  },
  "language_info": {
   "codemirror_mode": {
    "name": "ipython",
    "version": 3
   },
   "file_extension": ".py",
   "mimetype": "text/x-python",
   "name": "python",
   "nbconvert_exporter": "python",
   "pygments_lexer": "ipython3",
   "version": "3.11.5"
  },
  "orig_nbformat": 4,
  "vscode": {
   "interpreter": {
    "hash": "aee8b7b246df8f9039afb4144a1f6fd8d2ca17a180786b69acc140d282b71a49"
   }
  }
 },
 "nbformat": 4,
 "nbformat_minor": 2
}
